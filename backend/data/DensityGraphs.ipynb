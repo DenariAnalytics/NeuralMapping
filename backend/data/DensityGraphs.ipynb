{
 "cells": [
  {
   "cell_type": "code",
   "execution_count": 42,
   "id": "0e03697a-764c-401d-9899-c7f55afa4a32",
   "metadata": {},
   "outputs": [
    {
     "name": "stdout",
     "output_type": "stream",
     "text": [
      "The autoreload extension is already loaded. To reload it, use:\n",
      "  %reload_ext autoreload\n"
     ]
    }
   ],
   "source": [
    "%load_ext autoreload\n",
    "%autoreload 2"
   ]
  },
  {
   "cell_type": "code",
   "execution_count": 44,
   "id": "a90feb93-de1f-441b-aad7-ad2023e2aed0",
   "metadata": {},
   "outputs": [],
   "source": [
    "import os\n",
    "import sys"
   ]
  },
  {
   "cell_type": "code",
   "execution_count": 46,
   "id": "e62a112c-23da-4d83-9fcb-4e7afc0ea62b",
   "metadata": {},
   "outputs": [],
   "source": [
    "import pandas as pd\n",
    "import plotly.graph_objects as go\n",
    "import dash\n",
    "from dash import dcc, html\n",
    "from dash.dependencies import Input, Output"
   ]
  },
  {
   "cell_type": "code",
   "execution_count": 48,
   "id": "6aba5a72-c6fc-410b-8ce6-f0a5405d2fbb",
   "metadata": {},
   "outputs": [],
   "source": [
    "path = os.getcwd()\n",
    "py_files = os.path.abspath(os.path.join(path, os.pardir))\n",
    "sys.path.append(py_files)"
   ]
  },
  {
   "cell_type": "code",
   "execution_count": 50,
   "id": "2fae8283-0e61-465b-bb5c-5c2bc1c042bc",
   "metadata": {},
   "outputs": [],
   "source": [
    "import BrainMapping as brm\n",
    "import UniversalTools as uto"
   ]
  },
  {
   "cell_type": "code",
   "execution_count": 52,
   "id": "1a6a5760-9133-4413-b892-8e9e83d8efe1",
   "metadata": {},
   "outputs": [],
   "source": [
    "path = os.getcwd()\n",
    "data_folder = path\n",
    "receptor_density_file = \"/ReceptorDensity.csv\""
   ]
  },
  {
   "cell_type": "code",
   "execution_count": 54,
   "id": "b722aaa4-c494-4259-9f88-40703fafa871",
   "metadata": {},
   "outputs": [],
   "source": [
    "# Function to generate the bar/line chart\n",
    "def graph_index_columns(df: pd.DataFrame, barmode: str = 'group', chart_type: str = 'bar') -> go.Figure:\n",
    "    col_names = df.columns.values.tolist()\n",
    "    index_names = df.index.values.tolist()\n",
    "    index_names = list(map(str, index_names))\n",
    "\n",
    "    chart_elements = []\n",
    "\n",
    "    for i in col_names:\n",
    "        if chart_type == 'bar':\n",
    "            chart_element = go.Bar(name=i, x=index_names, y=df[i])\n",
    "        elif chart_type == 'line':\n",
    "            chart_element = go.Scatter(name=i, x=index_names, y=df[i])\n",
    "        else:\n",
    "            raise ValueError(\"Invalid chart_type. Expect 'bar' or 'line'.\")\n",
    "        chart_elements.append(chart_element)\n",
    "\n",
    "    fig = go.Figure(chart_elements)\n",
    "    fig.update_layout(barmode=barmode)\n",
    "\n",
    "    return fig"
   ]
  },
  {
   "cell_type": "code",
   "execution_count": 56,
   "id": "6f03432e-a42b-4e7c-8b4d-1c755b5c162d",
   "metadata": {},
   "outputs": [],
   "source": [
    "receptor_density = pd.read_csv(data_folder + receptor_density_file)"
   ]
  },
  {
   "cell_type": "code",
   "execution_count": 58,
   "id": "b451bf75-fd80-4490-adb5-7f140cd70333",
   "metadata": {},
   "outputs": [],
   "source": [
    "a = brm.SetReceptorDensity(receptor_density,'max',scaled=False)"
   ]
  },
  {
   "cell_type": "code",
   "execution_count": 60,
   "id": "465097b0-a205-42eb-93bf-f011e1cafcb1",
   "metadata": {},
   "outputs": [],
   "source": [
    "b = brm.SetReceptorDensity(receptor_density,'max',scaled=True)"
   ]
  },
  {
   "cell_type": "code",
   "execution_count": 62,
   "id": "2cd8117b-7d9c-402b-9411-ab0a4166fad8",
   "metadata": {},
   "outputs": [],
   "source": [
    "df = a.copy()"
   ]
  },
  {
   "cell_type": "code",
   "execution_count": 64,
   "id": "9237b3c4-7c0a-4adb-b178-bee0cf978b8e",
   "metadata": {},
   "outputs": [],
   "source": [
    "#df.columns"
   ]
  },
  {
   "cell_type": "code",
   "execution_count": 66,
   "id": "dfd57f5e-3d0e-4e68-aa33-5e051531ae5c",
   "metadata": {},
   "outputs": [],
   "source": [
    "receptors = [\n",
    "    'Acetylcholine',\n",
    "    'Adrenergic',\n",
    "    'Cannabinoid',\n",
    "    'Dopamine',\n",
    "    'GABA',\n",
    "    'Glutamate',\n",
    "    'Histamine',\n",
    "    'Melatonin',\n",
    "    'Muscarinic',\n",
    "    'Neuropeptide',\n",
    "    'Neuropeptide Y',\n",
    "    'Noradrenaline',\n",
    "    'Opioid',\n",
    "    'Orexin',\n",
    "    'Prostaglandin',\n",
    "    'Serotonin',\n",
    "    'Somatostatin'\n",
    "]"
   ]
  },
  {
   "cell_type": "code",
   "execution_count": 68,
   "id": "e1b7af8b-a18c-46d2-b55f-6a4798a4bf07",
   "metadata": {},
   "outputs": [
    {
     "data": {
      "text/html": [
       "<div>\n",
       "<style scoped>\n",
       "    .dataframe tbody tr th:only-of-type {\n",
       "        vertical-align: middle;\n",
       "    }\n",
       "\n",
       "    .dataframe tbody tr th {\n",
       "        vertical-align: top;\n",
       "    }\n",
       "\n",
       "    .dataframe thead th {\n",
       "        text-align: right;\n",
       "    }\n",
       "</style>\n",
       "<table border=\"1\" class=\"dataframe\">\n",
       "  <thead>\n",
       "    <tr style=\"text-align: right;\">\n",
       "      <th></th>\n",
       "      <th>Receptor Name</th>\n",
       "    </tr>\n",
       "  </thead>\n",
       "  <tbody>\n",
       "    <tr>\n",
       "      <th>0</th>\n",
       "      <td>Acetylcholine</td>\n",
       "    </tr>\n",
       "    <tr>\n",
       "      <th>1</th>\n",
       "      <td>Adrenergic</td>\n",
       "    </tr>\n",
       "    <tr>\n",
       "      <th>2</th>\n",
       "      <td>Cannabinoid</td>\n",
       "    </tr>\n",
       "    <tr>\n",
       "      <th>3</th>\n",
       "      <td>Dopamine</td>\n",
       "    </tr>\n",
       "    <tr>\n",
       "      <th>4</th>\n",
       "      <td>GABA</td>\n",
       "    </tr>\n",
       "    <tr>\n",
       "      <th>5</th>\n",
       "      <td>Glutamate</td>\n",
       "    </tr>\n",
       "    <tr>\n",
       "      <th>6</th>\n",
       "      <td>Histamine</td>\n",
       "    </tr>\n",
       "    <tr>\n",
       "      <th>7</th>\n",
       "      <td>Melatonin</td>\n",
       "    </tr>\n",
       "    <tr>\n",
       "      <th>8</th>\n",
       "      <td>Muscarinic</td>\n",
       "    </tr>\n",
       "    <tr>\n",
       "      <th>9</th>\n",
       "      <td>Neuropeptide</td>\n",
       "    </tr>\n",
       "    <tr>\n",
       "      <th>10</th>\n",
       "      <td>Neuropeptide Y</td>\n",
       "    </tr>\n",
       "    <tr>\n",
       "      <th>11</th>\n",
       "      <td>Noradrenaline</td>\n",
       "    </tr>\n",
       "    <tr>\n",
       "      <th>12</th>\n",
       "      <td>Opioid</td>\n",
       "    </tr>\n",
       "    <tr>\n",
       "      <th>13</th>\n",
       "      <td>Orexin</td>\n",
       "    </tr>\n",
       "    <tr>\n",
       "      <th>14</th>\n",
       "      <td>Prostaglandin</td>\n",
       "    </tr>\n",
       "    <tr>\n",
       "      <th>15</th>\n",
       "      <td>Serotonin</td>\n",
       "    </tr>\n",
       "    <tr>\n",
       "      <th>16</th>\n",
       "      <td>Somatostatin</td>\n",
       "    </tr>\n",
       "  </tbody>\n",
       "</table>\n",
       "</div>"
      ],
      "text/plain": [
       "     Receptor Name\n",
       "0    Acetylcholine\n",
       "1       Adrenergic\n",
       "2      Cannabinoid\n",
       "3         Dopamine\n",
       "4             GABA\n",
       "5        Glutamate\n",
       "6        Histamine\n",
       "7        Melatonin\n",
       "8       Muscarinic\n",
       "9     Neuropeptide\n",
       "10  Neuropeptide Y\n",
       "11   Noradrenaline\n",
       "12          Opioid\n",
       "13          Orexin\n",
       "14   Prostaglandin\n",
       "15       Serotonin\n",
       "16    Somatostatin"
      ]
     },
     "execution_count": 68,
     "metadata": {},
     "output_type": "execute_result"
    }
   ],
   "source": [
    "df_receptors = pd.DataFrame(receptors, columns=['Receptor Name'])\n",
    "df_receptors"
   ]
  },
  {
   "cell_type": "code",
   "execution_count": 70,
   "id": "8f22e838-8a37-4ee3-a842-785964c2bf36",
   "metadata": {},
   "outputs": [
    {
     "data": {
      "text/plain": [
       "'Dopamine'"
      ]
     },
     "execution_count": 70,
     "metadata": {},
     "output_type": "execute_result"
    }
   ],
   "source": [
    "number = 3\n",
    "receptor = receptors[number]\n",
    "c = brm.ReceptorFilter(df,receptor)\n",
    "receptor"
   ]
  },
  {
   "cell_type": "code",
   "execution_count": 72,
   "id": "0821410c-0ff1-48b6-b7bc-4eabc57af85e",
   "metadata": {},
   "outputs": [
    {
     "data": {
      "text/html": [
       "\n",
       "        <iframe\n",
       "            width=\"100%\"\n",
       "            height=\"650\"\n",
       "            src=\"http://127.0.0.1:8050/\"\n",
       "            frameborder=\"0\"\n",
       "            allowfullscreen\n",
       "            \n",
       "        ></iframe>\n",
       "        "
      ],
      "text/plain": [
       "<IPython.lib.display.IFrame at 0x7f1070b90da0>"
      ]
     },
     "metadata": {},
     "output_type": "display_data"
    }
   ],
   "source": [
    "app = dash.Dash(__name__)\n",
    "\n",
    "app.layout = html.Div([\n",
    "    html.H1(\"Receptor Density Across Brain Structures\"),\n",
    "    dcc.Graph(id='receptor-graph', figure=graph_index_columns(c))  # Generate the figure using your function\n",
    "])\n",
    "\n",
    "# Run the app\n",
    "if __name__ == '__main__':\n",
    "    app.run_server(debug=True)"
   ]
  },
  {
   "cell_type": "code",
   "execution_count": 17,
   "id": "60b7860b-58cf-48cd-9fbd-656ae916dcc2",
   "metadata": {},
   "outputs": [],
   "source": [
    "def BrainStructureFilter(df, brain_structure):\n",
    "    # Filter the dataframe based on the brain structure input\n",
    "    df_new = df[df['Brain structure'].str.contains(brain_structure, case=False)].copy()\n",
    "    # Transpose the dataframe and set the brain structure as the column name\n",
    "    df_new = df_new.drop(columns=['Brain structure']).T\n",
    "    df_new.columns = [brain_structure]\n",
    "    return df_new"
   ]
  },
  {
   "cell_type": "code",
   "execution_count": 18,
   "id": "d178bc6c-4501-4ff4-9ded-d54e0ab0951e",
   "metadata": {},
   "outputs": [
    {
     "data": {
      "text/html": [
       "<div>\n",
       "<style scoped>\n",
       "    .dataframe tbody tr th:only-of-type {\n",
       "        vertical-align: middle;\n",
       "    }\n",
       "\n",
       "    .dataframe tbody tr th {\n",
       "        vertical-align: top;\n",
       "    }\n",
       "\n",
       "    .dataframe thead th {\n",
       "        text-align: right;\n",
       "    }\n",
       "</style>\n",
       "<table border=\"1\" class=\"dataframe\">\n",
       "  <thead>\n",
       "    <tr style=\"text-align: right;\">\n",
       "      <th></th>\n",
       "      <th>Nucleus Accumbens</th>\n",
       "    </tr>\n",
       "  </thead>\n",
       "  <tbody>\n",
       "    <tr>\n",
       "      <th>H1 Histamine Receptor Density (fmol/mg)</th>\n",
       "      <td>1000.0</td>\n",
       "    </tr>\n",
       "    <tr>\n",
       "      <th>H2 Histamine Receptor Density (fmol/mg)</th>\n",
       "      <td>2500.0</td>\n",
       "    </tr>\n",
       "    <tr>\n",
       "      <th>H3 Histamine Receptor Density (fmol/mg)</th>\n",
       "      <td>3000.0</td>\n",
       "    </tr>\n",
       "    <tr>\n",
       "      <th>α4β2 Nicotinic Receptor Density (fmol/mg)</th>\n",
       "      <td>3000.0</td>\n",
       "    </tr>\n",
       "    <tr>\n",
       "      <th>α7 Nicotinic Receptor Density (fmol/mg)</th>\n",
       "      <td>5000.0</td>\n",
       "    </tr>\n",
       "    <tr>\n",
       "      <th>...</th>\n",
       "      <td>...</td>\n",
       "    </tr>\n",
       "    <tr>\n",
       "      <th>OX2 Orexin Receptor Density (fmol/mg)</th>\n",
       "      <td>2500.0</td>\n",
       "    </tr>\n",
       "    <tr>\n",
       "      <th>CB1 Cannabinoid Receptor Density (fmol/mg)</th>\n",
       "      <td>9000.0</td>\n",
       "    </tr>\n",
       "    <tr>\n",
       "      <th>CB2 Cannabinoid Receptor Density (fmol/mg)</th>\n",
       "      <td>3500.0</td>\n",
       "    </tr>\n",
       "    <tr>\n",
       "      <th>GABA-A Receptor Density (fmol/mg)</th>\n",
       "      <td>10000.0</td>\n",
       "    </tr>\n",
       "    <tr>\n",
       "      <th>GABA-B Receptor Density (fmol/mg)</th>\n",
       "      <td>2500.0</td>\n",
       "    </tr>\n",
       "  </tbody>\n",
       "</table>\n",
       "<p>65 rows × 1 columns</p>\n",
       "</div>"
      ],
      "text/plain": [
       "                                            Nucleus Accumbens\n",
       "H1 Histamine Receptor Density (fmol/mg)                1000.0\n",
       "H2 Histamine Receptor Density (fmol/mg)                2500.0\n",
       "H3 Histamine Receptor Density (fmol/mg)                3000.0\n",
       "α4β2 Nicotinic Receptor Density (fmol/mg)              3000.0\n",
       "α7 Nicotinic Receptor Density (fmol/mg)                5000.0\n",
       "...                                                       ...\n",
       "OX2 Orexin Receptor Density (fmol/mg)                  2500.0\n",
       "CB1 Cannabinoid Receptor Density (fmol/mg)             9000.0\n",
       "CB2 Cannabinoid Receptor Density (fmol/mg)             3500.0\n",
       "GABA-A Receptor Density (fmol/mg)                     10000.0\n",
       "GABA-B Receptor Density (fmol/mg)                      2500.0\n",
       "\n",
       "[65 rows x 1 columns]"
      ]
     },
     "execution_count": 18,
     "metadata": {},
     "output_type": "execute_result"
    }
   ],
   "source": [
    "d = BrainStructureFilter(df,\"Nucleus Accumbens\")\n",
    "d"
   ]
  },
  {
   "cell_type": "code",
   "execution_count": 19,
   "id": "509b7425-3fea-4fe4-a516-ad8acda0a6ff",
   "metadata": {},
   "outputs": [
    {
     "data": {
      "text/html": [
       "\n",
       "        <iframe\n",
       "            width=\"100%\"\n",
       "            height=\"650\"\n",
       "            src=\"http://0.0.0.0:8051/\"\n",
       "            frameborder=\"0\"\n",
       "            allowfullscreen\n",
       "            \n",
       "        ></iframe>\n",
       "        "
      ],
      "text/plain": [
       "<IPython.lib.display.IFrame at 0x7f10712e50a0>"
      ]
     },
     "metadata": {},
     "output_type": "display_data"
    }
   ],
   "source": [
    "app = dash.Dash(__name__)\n",
    "\n",
    "app.layout = html.Div([\n",
    "    html.H1(\"Receptor Density Across Brain Structures\"),\n",
    "    dcc.Graph(id='receptor-graph', figure=graph_index_columns(d))  # Generate the figure using your function\n",
    "])\n",
    "\n",
    "# Run the app\n",
    "if __name__ == '__main__':\n",
    "    app.run_server(debug=True, host='0.0.0.0', port=8051)"
   ]
  },
  {
   "cell_type": "code",
   "execution_count": 20,
   "id": "5ee38df5-7deb-45ed-9e7e-806c307ca660",
   "metadata": {},
   "outputs": [
    {
     "data": {
      "text/html": [
       "\n",
       "        <iframe\n",
       "            width=\"100%\"\n",
       "            height=\"650\"\n",
       "            src=\"http://0.0.0.0:8051/\"\n",
       "            frameborder=\"0\"\n",
       "            allowfullscreen\n",
       "            \n",
       "        ></iframe>\n",
       "        "
      ],
      "text/plain": [
       "<IPython.lib.display.IFrame at 0x7f107019fc50>"
      ]
     },
     "metadata": {},
     "output_type": "display_data"
    }
   ],
   "source": [
    "app = dash.Dash(__name__)\n",
    "\n",
    "# Layout of the app\n",
    "app.layout = html.Div([\n",
    "    html.H1(\"Receptor Density Across Brain Structures\"),\n",
    "    \n",
    "    dcc.Dropdown(\n",
    "        id='structure-dropdown',\n",
    "        options=[{'label': structure, 'value': structure} for structure in receptors],\n",
    "        value=receptors[0],  # Default value\n",
    "        clearable=False,\n",
    "    ),\n",
    "    \n",
    "    dcc.Graph(id='receptor-graph')  # Graph to display the filtered data\n",
    "])\n",
    "\n",
    "# Callback to update the graph based on the dropdown selection\n",
    "@app.callback(\n",
    "    Output('receptor-graph', 'figure'),\n",
    "    [Input('structure-dropdown', 'value')]\n",
    ")\n",
    "def update_graph(selected_structure):\n",
    "    # Filter the DataFrame using ReceptorFilter with the selected structure (receptor)\n",
    "    filtered_df = ReceptorFilter(c, selected_structure)\n",
    "    \n",
    "    # Generate the figure using graph_index_columns with the filtered data\n",
    "    fig = graph_index_columns(filtered_df, colors='large', barmode='group', chart_type='bar')\n",
    "    \n",
    "    return fig\n",
    "\n",
    "# Run the app\n",
    "if __name__ == '__main__':\n",
    "    app.run_server(debug=True, host='0.0.0.0', port=8051)"
   ]
  },
  {
   "cell_type": "code",
   "execution_count": null,
   "id": "4ab2fec2-25d4-468b-8ded-f57813023234",
   "metadata": {},
   "outputs": [],
   "source": []
  }
 ],
 "metadata": {
  "kernelspec": {
   "display_name": "Python 3 (ipykernel)",
   "language": "python",
   "name": "python3"
  },
  "language_info": {
   "codemirror_mode": {
    "name": "ipython",
    "version": 3
   },
   "file_extension": ".py",
   "mimetype": "text/x-python",
   "name": "python",
   "nbconvert_exporter": "python",
   "pygments_lexer": "ipython3",
   "version": "3.12.4"
  }
 },
 "nbformat": 4,
 "nbformat_minor": 5
}
