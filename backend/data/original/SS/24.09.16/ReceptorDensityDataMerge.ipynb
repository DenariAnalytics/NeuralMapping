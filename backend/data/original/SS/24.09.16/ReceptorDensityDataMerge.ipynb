{
 "cells": [
  {
   "cell_type": "code",
   "execution_count": 43,
   "id": "579c484b-d773-4a4e-a9bd-649ded61e2b3",
   "metadata": {},
   "outputs": [
    {
     "name": "stdout",
     "output_type": "stream",
     "text": [
      "ReceptorDensity.json has been successfully created at C:\\Users\\denari\\OneDrive\\Desktop\\Mapping the Brain\\03 - Notebooks\\data\\ReceptorDensity.json.\n"
     ]
    }
   ],
   "source": [
    "import os\n",
    "import pandas as pd\n",
    "import json\n",
    "\n",
    "# Use the current working directory\n",
    "directory = os.getcwd()\n",
    "\n",
    "# Dictionary to store dataframes separately with filenames as keys\n",
    "dataframes = {}\n",
    "\n",
    "# Loop through files in the directory\n",
    "for filename in os.listdir(directory):\n",
    "    # Check if the file ends with \"receptor_density.csv\"\n",
    "    if filename.endswith(\"receptor_density.csv\"):\n",
    "        # Read the CSV file into a dataframe without using any column as an index\n",
    "        df = pd.read_csv(os.path.join(directory, filename), index_col=False)\n",
    "        \n",
    "        # Ensure the \"Brain Structure\" column exists\n",
    "        if 'Brain Structure' in df.columns:\n",
    "            dataframes[filename] = df\n",
    "        else:\n",
    "            print(f\"Warning: 'Brain Structure' column not found in {filename}\")\n",
    "\n",
    "# Check if there are any dataframes to merge\n",
    "if len(dataframes) > 0:\n",
    "    # Start with the first dataframe\n",
    "    combined_df = list(dataframes.values())[0]\n",
    "    \n",
    "    # Iteratively merge the remaining dataframes on 'Brain Structure'\n",
    "    for df in list(dataframes.values())[1:]:\n",
    "        combined_df = pd.merge(combined_df, df, on='Brain Structure', how='inner')\n",
    "    \n",
    "    # Dynamically get all columns from the combined DataFrame\n",
    "    final_columns = combined_df.columns.tolist()\n",
    "\n",
    "    # Convert the DataFrame to the desired JSON format\n",
    "    result_json = combined_df.to_dict(orient='records')\n",
    "\n",
    "    # Get the parent directory (one folder up)\n",
    "    parent_directory = os.path.dirname(directory)\n",
    "\n",
    "    # Define the full path to save the JSON file one folder up\n",
    "    json_file_path = os.path.join(parent_directory, 'ReceptorDensity.json')\n",
    "\n",
    "    # Save the result as a JSON file, overwriting if it exists\n",
    "    with open(json_file_path, 'w') as json_file:\n",
    "        json.dump(result_json, json_file, indent=4)\n",
    "    \n",
    "    print(f\"ReceptorDensity.json has been successfully created at {json_file_path}.\")\n",
    "else:\n",
    "    print(\"No dataframes were loaded with 'Brain Structure' column.\")\n"
   ]
  },
  {
   "cell_type": "code",
   "execution_count": null,
   "id": "8dac5bad-814d-42bf-872f-bc203d8c07fd",
   "metadata": {},
   "outputs": [],
   "source": []
  }
 ],
 "metadata": {
  "kernelspec": {
   "display_name": "Python 3 (ipykernel)",
   "language": "python",
   "name": "python3"
  },
  "language_info": {
   "codemirror_mode": {
    "name": "ipython",
    "version": 3
   },
   "file_extension": ".py",
   "mimetype": "text/x-python",
   "name": "python",
   "nbconvert_exporter": "python",
   "pygments_lexer": "ipython3",
   "version": "3.12.4"
  }
 },
 "nbformat": 4,
 "nbformat_minor": 5
}
