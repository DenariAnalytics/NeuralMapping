{
 "cells": [
  {
   "cell_type": "code",
   "execution_count": 80,
   "id": "bde04129-6ce4-479b-8a55-620f7facac13",
   "metadata": {},
   "outputs": [
    {
     "name": "stdout",
     "output_type": "stream",
     "text": [
      "The autoreload extension is already loaded. To reload it, use:\n",
      "  %reload_ext autoreload\n"
     ]
    }
   ],
   "source": [
    "%load_ext autoreload\n",
    "%autoreload 2"
   ]
  },
  {
   "cell_type": "code",
   "execution_count": 81,
   "id": "5ad7eaba-96ca-4ada-a91f-21f5cb714fa1",
   "metadata": {},
   "outputs": [],
   "source": [
    "import os\n",
    "import numpy as np\n",
    "import pandas as pd"
   ]
  },
  {
   "cell_type": "code",
   "execution_count": 82,
   "id": "f2eafa72-9ee0-44e5-ab60-2da12144a48c",
   "metadata": {},
   "outputs": [],
   "source": [
    "path = os.getcwd()"
   ]
  },
  {
   "cell_type": "code",
   "execution_count": 83,
   "id": "01e4678f-2fbc-4345-b7cb-f6d1c95654d2",
   "metadata": {},
   "outputs": [],
   "source": [
    "receptor_type_file = \"/ReceptorTypes.csv\""
   ]
  },
  {
   "cell_type": "code",
   "execution_count": 84,
   "id": "b88c65d2-175f-420c-a8c7-15f4f9e3e24c",
   "metadata": {},
   "outputs": [
    {
     "data": {
      "text/html": [
       "<div>\n",
       "<style scoped>\n",
       "    .dataframe tbody tr th:only-of-type {\n",
       "        vertical-align: middle;\n",
       "    }\n",
       "\n",
       "    .dataframe tbody tr th {\n",
       "        vertical-align: top;\n",
       "    }\n",
       "\n",
       "    .dataframe thead th {\n",
       "        text-align: right;\n",
       "    }\n",
       "</style>\n",
       "<table border=\"1\" class=\"dataframe\">\n",
       "  <thead>\n",
       "    <tr style=\"text-align: right;\">\n",
       "      <th></th>\n",
       "      <th>Subunit</th>\n",
       "      <th>Type</th>\n",
       "      <th>Family</th>\n",
       "      <th>Category</th>\n",
       "      <th>Mechanism</th>\n",
       "    </tr>\n",
       "  </thead>\n",
       "  <tbody>\n",
       "    <tr>\n",
       "      <th>0</th>\n",
       "      <td>NR1</td>\n",
       "      <td>NMDA</td>\n",
       "      <td>Glutamate</td>\n",
       "      <td>Ionotropic</td>\n",
       "      <td>Ligand-gated ion channels (Na⁺/K⁺/Ca²⁺)</td>\n",
       "    </tr>\n",
       "    <tr>\n",
       "      <th>1</th>\n",
       "      <td>NR2A</td>\n",
       "      <td>NMDA</td>\n",
       "      <td>Glutamate</td>\n",
       "      <td>Ionotropic</td>\n",
       "      <td>Ligand-gated ion channels (Na⁺/K⁺/Ca²⁺)</td>\n",
       "    </tr>\n",
       "    <tr>\n",
       "      <th>2</th>\n",
       "      <td>NR2B</td>\n",
       "      <td>NMDA</td>\n",
       "      <td>Glutamate</td>\n",
       "      <td>Ionotropic</td>\n",
       "      <td>Ligand-gated ion channels (Na⁺/K⁺/Ca²⁺)</td>\n",
       "    </tr>\n",
       "    <tr>\n",
       "      <th>3</th>\n",
       "      <td>NR2C</td>\n",
       "      <td>NMDA</td>\n",
       "      <td>Glutamate</td>\n",
       "      <td>Ionotropic</td>\n",
       "      <td>Ligand-gated ion channels (Na⁺/K⁺/Ca²⁺)</td>\n",
       "    </tr>\n",
       "    <tr>\n",
       "      <th>4</th>\n",
       "      <td>NR2D</td>\n",
       "      <td>NMDA</td>\n",
       "      <td>Glutamate</td>\n",
       "      <td>Ionotropic</td>\n",
       "      <td>Ligand-gated ion channels (Na⁺/K⁺/Ca²⁺)</td>\n",
       "    </tr>\n",
       "    <tr>\n",
       "      <th>...</th>\n",
       "      <td>...</td>\n",
       "      <td>...</td>\n",
       "      <td>...</td>\n",
       "      <td>...</td>\n",
       "      <td>...</td>\n",
       "    </tr>\n",
       "    <tr>\n",
       "      <th>154</th>\n",
       "      <td>TRPC6</td>\n",
       "      <td>TRP Channels</td>\n",
       "      <td>TRP Channels</td>\n",
       "      <td>Ionotropic</td>\n",
       "      <td>Ligand-gated ion channels (Na⁺/Ca²⁺)</td>\n",
       "    </tr>\n",
       "    <tr>\n",
       "      <th>155</th>\n",
       "      <td>TRPC7</td>\n",
       "      <td>TRP Channels</td>\n",
       "      <td>TRP Channels</td>\n",
       "      <td>Ionotropic</td>\n",
       "      <td>Ligand-gated ion channels (Na⁺/Ca²⁺)</td>\n",
       "    </tr>\n",
       "    <tr>\n",
       "      <th>156</th>\n",
       "      <td>NaN</td>\n",
       "      <td>NaN</td>\n",
       "      <td>Ion Channels</td>\n",
       "      <td>Ionotropic</td>\n",
       "      <td>Voltage-gated ion channels (Na⁺)</td>\n",
       "    </tr>\n",
       "    <tr>\n",
       "      <th>157</th>\n",
       "      <td>NaN</td>\n",
       "      <td>NaN</td>\n",
       "      <td>Ion Channels</td>\n",
       "      <td>Ionotropic</td>\n",
       "      <td>Voltage-gated ion channels (K⁺)</td>\n",
       "    </tr>\n",
       "    <tr>\n",
       "      <th>158</th>\n",
       "      <td>NaN</td>\n",
       "      <td>NaN</td>\n",
       "      <td>Ion Channels</td>\n",
       "      <td>Ionotropic</td>\n",
       "      <td>Voltage-gated ion channels (Ca²⁺)</td>\n",
       "    </tr>\n",
       "  </tbody>\n",
       "</table>\n",
       "<p>159 rows × 5 columns</p>\n",
       "</div>"
      ],
      "text/plain": [
       "    Subunit          Type        Family    Category  \\\n",
       "0       NR1          NMDA     Glutamate  Ionotropic   \n",
       "1      NR2A          NMDA     Glutamate  Ionotropic   \n",
       "2      NR2B          NMDA     Glutamate  Ionotropic   \n",
       "3      NR2C          NMDA     Glutamate  Ionotropic   \n",
       "4      NR2D          NMDA     Glutamate  Ionotropic   \n",
       "..      ...           ...           ...         ...   \n",
       "154   TRPC6  TRP Channels  TRP Channels  Ionotropic   \n",
       "155   TRPC7  TRP Channels  TRP Channels  Ionotropic   \n",
       "156     NaN           NaN  Ion Channels  Ionotropic   \n",
       "157     NaN           NaN  Ion Channels  Ionotropic   \n",
       "158     NaN           NaN  Ion Channels  Ionotropic   \n",
       "\n",
       "                                   Mechanism  \n",
       "0    Ligand-gated ion channels (Na⁺/K⁺/Ca²⁺)  \n",
       "1    Ligand-gated ion channels (Na⁺/K⁺/Ca²⁺)  \n",
       "2    Ligand-gated ion channels (Na⁺/K⁺/Ca²⁺)  \n",
       "3    Ligand-gated ion channels (Na⁺/K⁺/Ca²⁺)  \n",
       "4    Ligand-gated ion channels (Na⁺/K⁺/Ca²⁺)  \n",
       "..                                       ...  \n",
       "154     Ligand-gated ion channels (Na⁺/Ca²⁺)  \n",
       "155     Ligand-gated ion channels (Na⁺/Ca²⁺)  \n",
       "156         Voltage-gated ion channels (Na⁺)  \n",
       "157          Voltage-gated ion channels (K⁺)  \n",
       "158        Voltage-gated ion channels (Ca²⁺)  \n",
       "\n",
       "[159 rows x 5 columns]"
      ]
     },
     "execution_count": 84,
     "metadata": {},
     "output_type": "execute_result"
    }
   ],
   "source": [
    "receptor_types = pd.read_csv(path + receptor_type_file)\n",
    "receptor_types"
   ]
  },
  {
   "cell_type": "code",
   "execution_count": 85,
   "id": "69168417-f85b-465d-99f9-afb86cb80653",
   "metadata": {},
   "outputs": [
    {
     "data": {
      "text/plain": [
       "Index(['Subunit', 'Type', 'Family', 'Category', 'Mechanism'], dtype='object')"
      ]
     },
     "execution_count": 85,
     "metadata": {},
     "output_type": "execute_result"
    }
   ],
   "source": [
    "receptor_types.columns"
   ]
  },
  {
   "cell_type": "code",
   "execution_count": 86,
   "id": "6af3eca9-1eef-43cc-9da3-dc32d277343e",
   "metadata": {},
   "outputs": [
    {
     "data": {
      "text/plain": [
       "{'Acetylcholine',\n",
       " 'Adrenergic',\n",
       " 'Bradykinin',\n",
       " 'Cannabinoid',\n",
       " 'Dopamine',\n",
       " 'GABA',\n",
       " 'Glutamate',\n",
       " 'Histamine',\n",
       " 'Ion Channels',\n",
       " 'Melatonin',\n",
       " 'Neuropeptide',\n",
       " 'Neuropeptide Y',\n",
       " 'Opioid',\n",
       " 'Orexin',\n",
       " 'Prostaglandin',\n",
       " 'Purinergic',\n",
       " 'Serotonin',\n",
       " 'Somatostatin',\n",
       " 'TRP Channels'}"
      ]
     },
     "execution_count": 86,
     "metadata": {},
     "output_type": "execute_result"
    }
   ],
   "source": [
    "set(receptor_types['Family'])"
   ]
  },
  {
   "cell_type": "code",
   "execution_count": 87,
   "id": "f081638b-a516-45c8-9645-a01a64bf2eca",
   "metadata": {},
   "outputs": [
    {
     "data": {
      "text/plain": [
       "{'AMPA',\n",
       " 'Adrenergic',\n",
       " 'Bradykinin',\n",
       " 'Cannabinoid',\n",
       " 'Dopamine',\n",
       " 'GABA_A',\n",
       " 'GABA_B',\n",
       " 'Histamine',\n",
       " 'Kainate',\n",
       " 'Melatonin',\n",
       " 'Muscarinic',\n",
       " 'NMDA',\n",
       " 'Neuropeptide',\n",
       " 'Neuropeptide Y',\n",
       " 'Nicotinic',\n",
       " 'Opioid',\n",
       " 'Orexin',\n",
       " 'Prostaglandin',\n",
       " 'Purinergic',\n",
       " 'Serotonin',\n",
       " 'Somatostatin',\n",
       " 'TRP Channels',\n",
       " nan}"
      ]
     },
     "execution_count": 87,
     "metadata": {},
     "output_type": "execute_result"
    }
   ],
   "source": [
    "set(receptor_types['Type'])"
   ]
  },
  {
   "cell_type": "code",
   "execution_count": 99,
   "id": "cf839795-64f1-4763-b41b-29cf1695c9d5",
   "metadata": {},
   "outputs": [
    {
     "data": {
      "text/html": [
       "<div>\n",
       "<style scoped>\n",
       "    .dataframe tbody tr th:only-of-type {\n",
       "        vertical-align: middle;\n",
       "    }\n",
       "\n",
       "    .dataframe tbody tr th {\n",
       "        vertical-align: top;\n",
       "    }\n",
       "\n",
       "    .dataframe thead th {\n",
       "        text-align: right;\n",
       "    }\n",
       "</style>\n",
       "<table border=\"1\" class=\"dataframe\">\n",
       "  <thead>\n",
       "    <tr style=\"text-align: right;\">\n",
       "      <th></th>\n",
       "      <th>Subunit</th>\n",
       "      <th>Type</th>\n",
       "      <th>Family</th>\n",
       "      <th>Category</th>\n",
       "      <th>Mechanism</th>\n",
       "    </tr>\n",
       "  </thead>\n",
       "  <tbody>\n",
       "    <tr>\n",
       "      <th>11</th>\n",
       "      <td>GluK1</td>\n",
       "      <td>Kainate</td>\n",
       "      <td>Glutamate</td>\n",
       "      <td>Ionotropic</td>\n",
       "      <td>Ligand-gated ion channels (Na⁺/K⁺/Ca²⁺)</td>\n",
       "    </tr>\n",
       "    <tr>\n",
       "      <th>12</th>\n",
       "      <td>GluK2</td>\n",
       "      <td>Kainate</td>\n",
       "      <td>Glutamate</td>\n",
       "      <td>Ionotropic</td>\n",
       "      <td>Ligand-gated ion channels (Na⁺/K⁺/Ca²⁺)</td>\n",
       "    </tr>\n",
       "    <tr>\n",
       "      <th>13</th>\n",
       "      <td>GluK3</td>\n",
       "      <td>Kainate</td>\n",
       "      <td>Glutamate</td>\n",
       "      <td>Ionotropic</td>\n",
       "      <td>Ligand-gated ion channels (Na⁺/K⁺/Ca²⁺)</td>\n",
       "    </tr>\n",
       "    <tr>\n",
       "      <th>14</th>\n",
       "      <td>GluK4</td>\n",
       "      <td>Kainate</td>\n",
       "      <td>Glutamate</td>\n",
       "      <td>Ionotropic</td>\n",
       "      <td>Ligand-gated ion channels (Na⁺/K⁺/Ca²⁺)</td>\n",
       "    </tr>\n",
       "    <tr>\n",
       "      <th>15</th>\n",
       "      <td>GluK5</td>\n",
       "      <td>Kainate</td>\n",
       "      <td>Glutamate</td>\n",
       "      <td>Ionotropic</td>\n",
       "      <td>Ligand-gated ion channels (Na⁺/K⁺/Ca²⁺)</td>\n",
       "    </tr>\n",
       "  </tbody>\n",
       "</table>\n",
       "</div>"
      ],
      "text/plain": [
       "   Subunit     Type     Family    Category  \\\n",
       "11   GluK1  Kainate  Glutamate  Ionotropic   \n",
       "12   GluK2  Kainate  Glutamate  Ionotropic   \n",
       "13   GluK3  Kainate  Glutamate  Ionotropic   \n",
       "14   GluK4  Kainate  Glutamate  Ionotropic   \n",
       "15   GluK5  Kainate  Glutamate  Ionotropic   \n",
       "\n",
       "                                  Mechanism  \n",
       "11  Ligand-gated ion channels (Na⁺/K⁺/Ca²⁺)  \n",
       "12  Ligand-gated ion channels (Na⁺/K⁺/Ca²⁺)  \n",
       "13  Ligand-gated ion channels (Na⁺/K⁺/Ca²⁺)  \n",
       "14  Ligand-gated ion channels (Na⁺/K⁺/Ca²⁺)  \n",
       "15  Ligand-gated ion channels (Na⁺/K⁺/Ca²⁺)  "
      ]
     },
     "execution_count": 99,
     "metadata": {},
     "output_type": "execute_result"
    }
   ],
   "source": [
    "receptor_types[receptor_types['Type'] == 'Kainate']"
   ]
  },
  {
   "cell_type": "code",
   "execution_count": null,
   "id": "777ebcbf-e7b6-4d74-8ac4-93206cf37ab2",
   "metadata": {},
   "outputs": [],
   "source": []
  }
 ],
 "metadata": {
  "kernelspec": {
   "display_name": "Python 3 (ipykernel)",
   "language": "python",
   "name": "python3"
  },
  "language_info": {
   "codemirror_mode": {
    "name": "ipython",
    "version": 3
   },
   "file_extension": ".py",
   "mimetype": "text/x-python",
   "name": "python",
   "nbconvert_exporter": "python",
   "pygments_lexer": "ipython3",
   "version": "3.12.4"
  }
 },
 "nbformat": 4,
 "nbformat_minor": 5
}
