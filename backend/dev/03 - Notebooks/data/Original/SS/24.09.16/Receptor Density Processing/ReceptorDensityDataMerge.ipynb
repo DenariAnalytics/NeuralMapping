{
 "cells": [
  {
   "cell_type": "code",
   "execution_count": 82,
   "id": "5d4f8c56-7324-4c92-9dbf-06d85b22b082",
   "metadata": {},
   "outputs": [
    {
     "name": "stdout",
     "output_type": "stream",
     "text": [
      "Merged data has been saved to C:\\Users\\denari\\OneDrive\\Desktop\\Mapping the Brain\\03 - Notebooks\\data\\ReceptorDensity.json\n"
     ]
    }
   ],
   "source": [
    "import os\n",
    "import pandas as pd\n",
    "from functools import reduce\n",
    "\n",
    "# Get all JSON files in the current directory that end with \"receptor_density.json\"\n",
    "json_files = [file for file in os.listdir() if file.endswith(\"receptor_density.json\")]\n",
    "\n",
    "# Check if there are any JSON files to process\n",
    "if not json_files:\n",
    "    print(\"No JSON files found to merge.\")\n",
    "    exit()\n",
    "\n",
    "# Read each JSON file into a DataFrame and store them in a list\n",
    "# Adjust 'lines' parameter based on the format of your JSON files\n",
    "dfs = [pd.read_json(file) for file in json_files]\n",
    "\n",
    "# Merge all DataFrames on 'Brain Structure' column\n",
    "merged_df = reduce(lambda left, right: pd.merge(left, right, on='Brain Structure', how='inner'), dfs)\n",
    "\n",
    "# Construct the output path: two folders up\n",
    "output_dir = os.path.abspath(os.path.join(os.getcwd(), '../../'))\n",
    "output_file = os.path.join(output_dir, 'ReceptorDensity.json')\n",
    "\n",
    "# Save the merged DataFrame as a JSON array\n",
    "merged_df.to_json(output_file, orient='records', indent=4)\n",
    "\n",
    "print(f\"Merged data has been saved to {output_file}\")\n",
    "\n"
   ]
  },
  {
   "cell_type": "code",
   "execution_count": null,
   "id": "0cee92a5-a954-4946-9245-43422eb8089e",
   "metadata": {},
   "outputs": [],
   "source": []
  }
 ],
 "metadata": {
  "kernelspec": {
   "display_name": "Python 3 (ipykernel)",
   "language": "python",
   "name": "python3"
  },
  "language_info": {
   "codemirror_mode": {
    "name": "ipython",
    "version": 3
   },
   "file_extension": ".py",
   "mimetype": "text/x-python",
   "name": "python",
   "nbconvert_exporter": "python",
   "pygments_lexer": "ipython3",
   "version": "3.12.4"
  }
 },
 "nbformat": 4,
 "nbformat_minor": 5
}
